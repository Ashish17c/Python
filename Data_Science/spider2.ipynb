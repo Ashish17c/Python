{
 "cells": [
  {
   "cell_type": "code",
   "execution_count": 5,
   "metadata": {},
   "outputs": [],
   "source": [
    "import requests\n",
    "from bs4 import BeautifulSoup"
   ]
  },
  {
   "cell_type": "code",
   "execution_count": 6,
   "metadata": {},
   "outputs": [],
   "source": [
    "def load_soup(url):\n",
    "    page = requests.get(url)\n",
    "    if page.status_code == 200:\n",
    "        return BeautifulSoup(page.text)"
   ]
  },
  {
   "cell_type": "code",
   "execution_count": 7,
   "metadata": {},
   "outputs": [
    {
     "name": "stdout",
     "output_type": "stream",
     "text": [
      "Data loaded\n"
     ]
    }
   ],
   "source": [
    "url = 'https://www.flipkart.com/search?q=mobiles&otracker=search&otracker1=search&marketplace=FLIPKART&as-show=on&as=off'\n",
    "soup  =load_soup(url)\n",
    "if soup is not None:\n",
    "    print('Data loaded')\n",
    "else:\n",
    "    print('Data could not be loaded')"
   ]
  },
  {
   "cell_type": "code",
   "execution_count": 8,
   "metadata": {},
   "outputs": [
    {
     "name": "stdout",
     "output_type": "stream",
     "text": [
      "Your target area found\n"
     ]
    }
   ],
   "source": [
    "target = soup.find('div', class_ ='_1YokD2 _3Mn1Gg')\n",
    "if target is not None:\n",
    "    print('Your target area found')\n",
    "else:\n",
    "    print('Very bad coder u are')"
   ]
  },
  {
   "cell_type": "code",
   "execution_count": 9,
   "metadata": {},
   "outputs": [
    {
     "name": "stdout",
     "output_type": "stream",
     "text": [
      "24 items found in page\n"
     ]
    }
   ],
   "source": [
    "items = target.find_all('div', class_ = '_2kHMtA')\n",
    "if items is not None:\n",
    "    print(len(items), 'items found in page')\n",
    "else:\n",
    "    print('You should go and sleep')"
   ]
  },
  {
   "cell_type": "markdown",
   "metadata": {},
   "source": [
    "Test code"
   ]
  },
  {
   "cell_type": "code",
   "execution_count": 11,
   "metadata": {},
   "outputs": [
    {
     "name": "stdout",
     "output_type": "stream",
     "text": [
      "name Infinix HOT 12 Play (Horizon Blue, 64 GB)\n",
      "price ₹8,199\n",
      "original price ₹11,999\n",
      "no exchange offer\n",
      "rating 4.3\n",
      "review count 60,875 Ratings & 5,026 Reviews\n",
      "\n",
      "name Infinix HOT 12 Play (Racing Black, 64 GB)\n",
      "price ₹8,199\n",
      "original price ₹11,999\n",
      "exchange upto Upto ₹7,650 Off on Exchange\n",
      "rating 4.3\n",
      "review count 60,875 Ratings & 5,026 Reviews\n",
      "\n",
      "name Infinix HOT 12 Play (Champagne Gold, 64 GB)\n",
      "price ₹8,199\n",
      "original price ₹11,999\n",
      "exchange upto Upto ₹7,650 Off on Exchange\n",
      "rating 4.3\n",
      "review count 60,875 Ratings & 5,026 Reviews\n",
      "\n",
      "name CELLECOR E5\n",
      "price ₹1,319\n",
      "original price ₹1,349\n",
      "no exchange offer\n",
      "rating None\n",
      "review count Not available\n",
      "\n",
      "name Infinix HOT 12 Play (Daylight Green, 64 GB)\n",
      "price ₹8,199\n",
      "original price ₹11,999\n",
      "no exchange offer\n",
      "rating 4.3\n",
      "review count 60,875 Ratings & 5,026 Reviews\n",
      "\n",
      "name REDMI 9i Sport (Metallic Blue, 64 GB)\n",
      "price ₹7,999\n",
      "original price ₹9,999\n",
      "no exchange offer\n",
      "rating 4.4\n",
      "review count 1,42,635 Ratings & 8,183 Reviews\n",
      "\n",
      "name REDMI 9i Sport (Coral Green, 64 GB)\n",
      "price ₹7,999\n",
      "original price ₹9,999\n",
      "exchange upto Upto ₹7,400 Off on Exchange\n",
      "rating 4.4\n",
      "review count 1,42,635 Ratings & 8,183 Reviews\n",
      "\n",
      "name CELLECOR E3\n",
      "price ₹1,179\n",
      "original price ₹1,599\n",
      "no exchange offer\n",
      "rating None\n",
      "review count Not available\n",
      "\n",
      "name REDMI 9i Sport (Carbon Black, 64 GB)\n",
      "price ₹7,999\n",
      "original price ₹9,999\n",
      "exchange upto Upto ₹7,400 Off on Exchange\n",
      "rating 4.4\n",
      "review count 1,42,635 Ratings & 8,183 Reviews\n",
      "\n",
      "name SAMSUNG Galaxy F23 5G (Copper Blush, 128 GB)\n",
      "price ₹13,499\n",
      "original price ₹23,999\n",
      "exchange upto Upto ₹12,950 Off on Exchange\n",
      "rating 4.2\n",
      "review count 44,132 Ratings & 4,448 Reviews\n",
      "\n",
      "name SAMSUNG Galaxy F23 5G (Forest Green, 128 GB)\n",
      "price ₹13,499\n",
      "original price ₹23,999\n",
      "exchange upto Upto ₹12,950 Off on Exchange\n",
      "rating 4.2\n",
      "review count 44,132 Ratings & 4,448 Reviews\n",
      "\n",
      "name CELLECOR E1\n",
      "price ₹1,229\n",
      "original price ₹1,499\n",
      "no exchange offer\n",
      "rating None\n",
      "review count Not available\n",
      "\n",
      "name OPPO K10 (Blue Flame, 128 GB)\n",
      "price ₹13,490\n",
      "original price ₹18,999\n",
      "exchange upto Upto ₹12,950 Off on Exchange\n",
      "rating 4.4\n",
      "review count 54,692 Ratings & 4,343 Reviews\n",
      "\n",
      "name OPPO K10 (Black Carbon, 128 GB)\n",
      "price ₹13,490\n",
      "original price ₹18,999\n",
      "exchange upto Upto ₹12,950 Off on Exchange\n",
      "rating 4.4\n",
      "review count 54,692 Ratings & 4,343 Reviews\n",
      "\n",
      "name Infinix Smart 6 HD (Aqua Sky, 32 GB)\n",
      "price ₹6,199\n",
      "original price ₹8,999\n",
      "no exchange offer\n",
      "rating 4.6\n",
      "review count 854 Ratings & 27 Reviews\n",
      "\n",
      "name Infinix Smart 6 HD (Origin Blue, 32 GB)\n",
      "price ₹6,199\n",
      "original price ₹8,999\n",
      "no exchange offer\n",
      "rating 4.6\n",
      "review count 854 Ratings & 27 Reviews\n",
      "\n",
      "name SAMSUNG Galaxy F23 5G (Aqua Blue, 128 GB)\n",
      "price ₹13,499\n",
      "original price ₹23,999\n",
      "exchange upto Upto ₹12,950 Off on Exchange\n",
      "rating 4.2\n",
      "review count 44,132 Ratings & 4,448 Reviews\n",
      "\n",
      "name realme C31 (Light Silver, 32 GB)\n",
      "price ₹8,299\n",
      "original price ₹10,999\n",
      "exchange upto Bank Offer\n",
      "rating 4.6\n",
      "review count 34,067 Ratings & 1,250 Reviews\n",
      "\n",
      "name realme C31 (Dark Green, 32 GB)\n",
      "price ₹8,299\n",
      "original price ₹10,999\n",
      "exchange upto Bank Offer\n",
      "rating 4.6\n",
      "review count 34,067 Ratings & 1,250 Reviews\n",
      "\n",
      "name realme C31 (Dark Green, 64 GB)\n",
      "price ₹9,499\n",
      "original price ₹11,999\n",
      "exchange upto Bank Offer\n",
      "rating 4.4\n",
      "review count 31,706 Ratings & 1,640 Reviews\n",
      "\n",
      "name SAMSUNG Galaxy S21 FE 5G (Olive, 128 GB)\n",
      "price ₹34,999\n",
      "original price ₹74,999\n",
      "exchange upto Upto ₹20,000 Off on Exchange\n",
      "rating 4\n",
      "review count 162 Ratings & 23 Reviews\n",
      "\n",
      "name realme 9 (Stargaze White, 128 GB)\n",
      "price ₹14,499\n",
      "original price ₹20,999\n",
      "exchange upto Upto ₹13,100 Off on Exchange\n",
      "rating 4.4\n",
      "review count 22,611 Ratings & 1,559 Reviews\n",
      "\n",
      "name realme 9 (Sunburst Gold, 128 GB)\n",
      "price ₹14,499\n",
      "original price ₹20,999\n",
      "exchange upto Upto ₹13,100 Off on Exchange\n",
      "rating 4.4\n",
      "review count 22,611 Ratings & 1,559 Reviews\n",
      "\n",
      "name Infinix Smart 6 (Light Sea Green, 64 GB)\n",
      "price ₹6,499\n",
      "original price ₹8,999\n",
      "no exchange offer\n",
      "rating 4.3\n",
      "review count 12,368 Ratings & 883 Reviews\n",
      "\n"
     ]
    }
   ],
   "source": [
    "for product in items:\n",
    "    name = product.find('div', class_='_4rR01T')\n",
    "    dprice = product.find('div', class_='_30jeq3 _1_WHN1')\n",
    "    oprice = product.find('div', class_='_3I9_wc _27UcVY')\n",
    "    exc_price = product.find_all('div', class_='_3xFhiH')\n",
    "    rating = product.find('div', class_='_3LWZlK')\n",
    "    review_count = product.find('span', class_='_2_R_DZ')\n",
    "    print('name',name.text)\n",
    "    print('price',dprice.text)\n",
    "    try:\n",
    "        print('original price',oprice.text)\n",
    "    except:\n",
    "        print('original price not available')\n",
    "    try:\n",
    "        print('exchange upto', exc_price[-1].text)\n",
    "    except:\n",
    "        print('no exchange offer')\n",
    "    try:\n",
    "        print('rating',rating.text)\n",
    "    except:\n",
    "        print('rating None')\n",
    "    try:\n",
    "        print('review count',review_count.text)\n",
    "    except:\n",
    "        print('review count Not available')\n",
    "    \n",
    "    print()"
   ]
  },
  {
   "cell_type": "markdown",
   "metadata": {},
   "source": [
    "Actaul code"
   ]
  },
  {
   "cell_type": "code",
   "execution_count": 13,
   "metadata": {},
   "outputs": [],
   "source": [
    "data = [] # blank\n",
    "for product in items:\n",
    "    name = product.find('div', class_='_4rR01T')\n",
    "    dprice = product.find('div', class_='_30jeq3 _1_WHN1')\n",
    "    oprice = product.find('div', class_='_3I9_wc _27UcVY')\n",
    "    exc_price = product.find_all('div', class_='_3xFhiH')\n",
    "    rating = product.find('div', class_='_3LWZlK')\n",
    "    review_count = product.find('span', class_='_2_R_DZ')\n",
    "    content = {} # empty dict\n",
    "    content['name'] = name.text\n",
    "    content['discount_price'] = dprice.text\n",
    "    \n",
    "    try:\n",
    "        content['original_price']=oprice.text\n",
    "    except:\n",
    "        content['original_price']= dprice.text\n",
    "\n",
    "    try:\n",
    "        content['exchange_upto'] = exc_price[-1].text\n",
    "    except:\n",
    "        content['exchange_upto'] = None\n",
    "    \n",
    "    try:\n",
    "        content['rating'] = rating.text\n",
    "    except:\n",
    "        content['rating'] = None\n",
    "    try:\n",
    "        content['review_count'] = review_count.text\n",
    "    except:\n",
    "        content['review_count'] = None\n",
    "\n",
    "    data.append(content)"
   ]
  },
  {
   "cell_type": "code",
   "execution_count": 14,
   "metadata": {},
   "outputs": [],
   "source": [
    "import pandas as pd\n",
    "pd.DataFrame(data).to_csv('Flipkart mobile data.csv')"
   ]
  }
 ],
 "metadata": {
  "kernelspec": {
   "display_name": "Python 3.9.12 ('base')",
   "language": "python",
   "name": "python3"
  },
  "language_info": {
   "codemirror_mode": {
    "name": "ipython",
    "version": 3
   },
   "file_extension": ".py",
   "mimetype": "text/x-python",
   "name": "python",
   "nbconvert_exporter": "python",
   "pygments_lexer": "ipython3",
   "version": "3.9.12"
  },
  "orig_nbformat": 4,
  "vscode": {
   "interpreter": {
    "hash": "d352f530d35ba9a8cbd74dc54ae14fe97a35856bed16a2f3b615ca61b68e7fcb"
   }
  }
 },
 "nbformat": 4,
 "nbformat_minor": 2
}
